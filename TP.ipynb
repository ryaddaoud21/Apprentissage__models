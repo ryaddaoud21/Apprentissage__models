{
  "cells": [
    {
      "cell_type": "markdown",
      "metadata": {
        "id": "BWO5qdTSWd3u"
      },
      "source": [
        "# **TP Examen**\n",
        "\n",
        "- Le Notebook est à remplir et à déposer sur Moodle au bout d'une heure.\n",
        "- L'examen est individuel, chacun doit travailler seul et rendre son fichier.\n",
        "- Vous pouvez utiliser toutes les ressources que vous voulez, il est juste interdit de communiquer.\n",
        "- **Renommez le fichier NOM_tp_Examen.ipynb en remplaçant NOM par votre nom.**\n",
        "- Vous devez répondre aux questions dans les cellules prévues à cet effet. Vous pouvez ajouter des cellules si vous le souhaitez. **Chaque réponse doit être justifié avec du code.**"
      ]
    },
    {
      "cell_type": "markdown",
      "metadata": {
        "id": "YzccUMRuWd3v"
      },
      "source": [
        "# Importation des bibliothèques"
      ]
    },
    {
      "cell_type": "code",
      "execution_count": 1,
      "metadata": {
        "id": "64YsPVvKWd3w"
      },
      "outputs": [],
      "source": [
        "import numpy as np  # linear algebra\n",
        "import pandas as pd  # data processing, CSV file I/O (e.g. pd.read_csv)\n",
        "import matplotlib.pyplot as plt  # data visualization\n",
        "import seaborn as sns  # data visualization\n",
        "import sklearn  # machine learning"
      ]
    },
    {
      "cell_type": "code",
      "source": [
        "!pip install --upgrade scikit-learn"
      ],
      "metadata": {
        "colab": {
          "base_uri": "https://localhost:8080/"
        },
        "id": "56311ZdHs2xA",
        "outputId": "dcdc72b6-9ae8-4060-e6a9-62262f5c3ebf"
      },
      "execution_count": 8,
      "outputs": [
        {
          "output_type": "stream",
          "name": "stdout",
          "text": [
            "Looking in indexes: https://pypi.org/simple, https://us-python.pkg.dev/colab-wheels/public/simple/\n",
            "Requirement already satisfied: scikit-learn in /usr/local/lib/python3.9/dist-packages (1.2.2)\n",
            "Requirement already satisfied: scipy>=1.3.2 in /usr/local/lib/python3.9/dist-packages (from scikit-learn) (1.10.1)\n",
            "Requirement already satisfied: joblib>=1.1.1 in /usr/local/lib/python3.9/dist-packages (from scikit-learn) (1.1.1)\n",
            "Requirement already satisfied: numpy>=1.17.3 in /usr/local/lib/python3.9/dist-packages (from scikit-learn) (1.22.4)\n",
            "Requirement already satisfied: threadpoolctl>=2.0.0 in /usr/local/lib/python3.9/dist-packages (from scikit-learn) (3.1.0)\n"
          ]
        }
      ]
    },
    {
      "cell_type": "markdown",
      "metadata": {
        "id": "wHj7q1R2Wd3w"
      },
      "source": [
        "# Importation du jeu de données"
      ]
    },
    {
      "cell_type": "code",
      "source": [
        "# Importing the dataset\n",
        "from sklearn.datasets import load_wine\n",
        "wine = load_wine()"
      ],
      "metadata": {
        "id": "8W19wtZbs6yJ"
      },
      "execution_count": 9,
      "outputs": []
    },
    {
      "cell_type": "markdown",
      "metadata": {
        "id": "HZuCwQ93Wd3w"
      },
      "source": [
        "Pour ce TP, nous utiliserons le jeu de données Wine de Scikit-learn, vous pouvez trouver plus d'informations sur ce jeu de données ici : https://scikit-learn.org/stable/modules/generated/sklearn.datasets.load_wine.html"
      ]
    },
    {
      "cell_type": "markdown",
      "metadata": {
        "id": "5RNhc1IuWd3x"
      },
      "source": [
        "## Question 1 :"
      ]
    },
    {
      "cell_type": "code",
      "execution_count": 10,
      "metadata": {
        "id": "WuVZtCF2Wd3x",
        "colab": {
          "base_uri": "https://localhost:8080/"
        },
        "outputId": "3701ed40-5ce2-439d-db1c-a8ea75af17d6"
      },
      "outputs": [
        {
          "output_type": "stream",
          "name": "stdout",
          "text": [
            "Il y a 178 échantillons dans le jeu de données.\n",
            "Il y a 13 variables dans le jeu de données, qui sont:\n",
            "['alcohol', 'malic_acid', 'ash', 'alcalinity_of_ash', 'magnesium', 'total_phenols', 'flavanoids', 'nonflavanoid_phenols', 'proanthocyanins', 'color_intensity', 'hue', 'od280/od315_of_diluted_wines', 'proline']\n",
            "Il y a 3 classes dans le jeu de données, qui sont:\n",
            "['class_0' 'class_1' 'class_2']\n"
          ]
        }
      ],
      "source": [
        "### Combien d'échantillons y a-t-il dans le jeu de donnée ? ### \n",
        "print(f\"Il y a {wine.data.shape[0]} échantillons dans le jeu de données.\")\n",
        "\n",
        "### Combien de variables y a-t-il dans le jeu de donnée ? Donner leur nom. ### \n",
        "print(f\"Il y a {wine.data.shape[1]} variables dans le jeu de données, qui sont:\")\n",
        "print(wine.feature_names)\n",
        "\n",
        "### Combien de classes y a-t-il dans le jeu de donnée ? Donner leur nom. ### \n",
        "print(f\"Il y a {wine.target_names.shape[0]} classes dans le jeu de données, qui sont:\")\n",
        "print(wine.target_names)\n"
      ]
    },
    {
      "cell_type": "markdown",
      "metadata": {
        "id": "6JWwSfwZWd3x"
      },
      "source": [
        "## Question 2 :"
      ]
    },
    {
      "cell_type": "code",
      "execution_count": 12,
      "metadata": {
        "id": "9-ZYQ_51Wd3x",
        "colab": {
          "base_uri": "https://localhost:8080/"
        },
        "outputId": "fcf3ddfc-e5dd-4b37-f94e-35c3cf96ed74"
      },
      "outputs": [
        {
          "output_type": "stream",
          "name": "stdout",
          "text": [
            "   alcohol  malic_acid   ash  alcalinity_of_ash  magnesium  total_phenols  \\\n",
            "0    14.23        1.71  2.43               15.6      127.0           2.80   \n",
            "1    13.20        1.78  2.14               11.2      100.0           2.65   \n",
            "2    13.16        2.36  2.67               18.6      101.0           2.80   \n",
            "3    14.37        1.95  2.50               16.8      113.0           3.85   \n",
            "4    13.24        2.59  2.87               21.0      118.0           2.80   \n",
            "5    14.20        1.76  2.45               15.2      112.0           3.27   \n",
            "6    14.39        1.87  2.45               14.6       96.0           2.50   \n",
            "7    14.06        2.15  2.61               17.6      121.0           2.60   \n",
            "8    14.83        1.64  2.17               14.0       97.0           2.80   \n",
            "9    13.86        1.35  2.27               16.0       98.0           2.98   \n",
            "\n",
            "   flavanoids  nonflavanoid_phenols  proanthocyanins  color_intensity   hue  \\\n",
            "0        3.06                  0.28             2.29             5.64  1.04   \n",
            "1        2.76                  0.26             1.28             4.38  1.05   \n",
            "2        3.24                  0.30             2.81             5.68  1.03   \n",
            "3        3.49                  0.24             2.18             7.80  0.86   \n",
            "4        2.69                  0.39             1.82             4.32  1.04   \n",
            "5        3.39                  0.34             1.97             6.75  1.05   \n",
            "6        2.52                  0.30             1.98             5.25  1.02   \n",
            "7        2.51                  0.31             1.25             5.05  1.06   \n",
            "8        2.98                  0.29             1.98             5.20  1.08   \n",
            "9        3.15                  0.22             1.85             7.22  1.01   \n",
            "\n",
            "   od280/od315_of_diluted_wines  proline  target  \n",
            "0                          3.92   1065.0       0  \n",
            "1                          3.40   1050.0       0  \n",
            "2                          3.17   1185.0       0  \n",
            "3                          3.45   1480.0       0  \n",
            "4                          2.93    735.0       0  \n",
            "5                          2.85   1450.0       0  \n",
            "6                          3.58   1290.0       0  \n",
            "7                          3.58   1295.0       0  \n",
            "8                          2.85   1045.0       0  \n",
            "9                          3.55   1045.0       0  \n",
            "(178, 14)\n",
            "Index(['alcohol', 'malic_acid', 'ash', 'alcalinity_of_ash', 'magnesium',\n",
            "       'total_phenols', 'flavanoids', 'nonflavanoid_phenols',\n",
            "       'proanthocyanins', 'color_intensity', 'hue',\n",
            "       'od280/od315_of_diluted_wines', 'proline', 'target'],\n",
            "      dtype='object')\n"
          ]
        }
      ],
      "source": [
        "import pandas as pd\n",
        "\n",
        "\n",
        "### Mettre le jeu de donnée dans un dataframe Pandas et afficher les 10 premières lignes du jeu de données ###\n",
        "df_wine = pd.DataFrame(data=wine.data, columns=wine.feature_names)\n",
        "df_wine['target']=wine.target\n",
        "# Afficher les 10 premières lignes\n",
        "print(df_wine.head(10))\n",
        "\n",
        "\n",
        "### Vérifier les dimensions du jeu de données. Les dimensions correspondent-elles à votre réponse de la question 1 ? ###\n",
        "# Shape of the dataset (nb of rows and columns)\n",
        "print(df_wine.shape)\n",
        "print(df_wine.columns)\n",
        "\n",
        "\n",
        "#Réponse : oui ! en ajoutant l'attribut target on aura les 14 colonnes. \n"
      ]
    },
    {
      "cell_type": "markdown",
      "metadata": {
        "id": "Z7QxyWXQWd3x"
      },
      "source": [
        "## Question 3 :"
      ]
    },
    {
      "cell_type": "code",
      "execution_count": 16,
      "metadata": {
        "id": "5bSJfNK4Wd3x",
        "colab": {
          "base_uri": "https://localhost:8080/"
        },
        "outputId": "2def8077-285f-49cf-d09c-6880d446032f"
      },
      "outputs": [
        {
          "output_type": "stream",
          "name": "stdout",
          "text": [
            "alcohol                         0\n",
            "malic_acid                      0\n",
            "ash                             0\n",
            "alcalinity_of_ash               0\n",
            "magnesium                       0\n",
            "total_phenols                   0\n",
            "flavanoids                      0\n",
            "nonflavanoid_phenols            0\n",
            "proanthocyanins                 0\n",
            "color_intensity                 0\n",
            "hue                             0\n",
            "od280/od315_of_diluted_wines    0\n",
            "proline                         0\n",
            "target                          0\n",
            "dtype: int64\n",
            "On remarque qu'il y a pas des valeurs manquants.\n",
            "solution 1 : On Supprime les lignes où les colonnes contenant des valeurs manquantes.\n",
            "solution 2 : On remplace les valeurs manquantes par une valeur appropriée\n"
          ]
        }
      ],
      "source": [
        "### Vérifier que le jeu de données ne contient pas de valeurs manquantes ou invalides. ###\n",
        "print(df_wine.isnull().sum())\n",
        "\n",
        "print(\"On remarque qu'il y a pas des valeurs manquants.\")\n",
        "\n",
        "### Donner deux solutions dans le cas où il y a des valeurs manquantes ou invalides. ### \n",
        "\n",
        "print(\"solution 1 : On Supprime les lignes où les colonnes contenant des valeurs manquantes.\")\n",
        "print(\"solution 2 : On remplace les valeurs manquantes par une valeur appropriée\")\n",
        "\n",
        "\n",
        "### Donner le code pour appliquer au moins une des deux solutions proposées. ###\n",
        "\n",
        "df_wine.dropna(inplace=True)\n"
      ]
    },
    {
      "cell_type": "markdown",
      "metadata": {
        "id": "L4gs7ppXWd3y"
      },
      "source": [
        "## Question 4 :"
      ]
    },
    {
      "cell_type": "code",
      "execution_count": 19,
      "metadata": {
        "id": "Y9zMUkKpWd3y",
        "colab": {
          "base_uri": "https://localhost:8080/"
        },
        "outputId": "03488b70-aca1-4aae-e290-6fbf273df067"
      },
      "outputs": [
        {
          "output_type": "stream",
          "name": "stdout",
          "text": [
            "['class_0' 'class_1' 'class_2']\n",
            "1    71\n",
            "0    59\n",
            "2    48\n",
            "Name: target, dtype: int64\n",
            "1    0.398876\n",
            "0    0.331461\n",
            "2    0.269663\n",
            "Name: target, dtype: float64\n",
            "Non, la distribution des classes n'est pas équilibrée car la proportion d'échantillons pour chaque classe est différente ,  La  premiere classe  représente environ 40% des échantillons par contre les classes 0 et 2 représentent respectivement environ 33% et 27% des échantillons ( 39%, 33% et 26%)\n"
          ]
        }
      ],
      "source": [
        "### Afficher la distribution des classes du jeu de données. ###\n",
        "\n",
        "print(wine.target_names)\n",
        "\n",
        "# Count of each target value\n",
        "print(df_wine['target'].value_counts())\n",
        "\n",
        "# Same as above but in percentage\n",
        "print(df_wine['target'].value_counts(normalize=True))\n",
        "\n",
        "### La distribution des classes est-elle équilibrée ? ###\n",
        "\n",
        "print(\"Non, la distribution des classes n'est pas équilibrée car la proportion d'échantillons pour chaque classe est différente ,  La  premiere classe  représente environ 40% des échantillons par contre les classes 0 et 2 représentent respectivement environ 33% et 27% des échantillons ( 39%, 33% et 26%)\")\n"
      ]
    },
    {
      "cell_type": "markdown",
      "metadata": {
        "id": "oR9NL5RZWd3y"
      },
      "source": [
        "## Question 5 :"
      ]
    },
    {
      "cell_type": "code",
      "execution_count": 20,
      "metadata": {
        "id": "24Ysa11yWd3y"
      },
      "outputs": [],
      "source": [
        "### Diviser votre jeu de données en un jeu d'entraînement avec les trois quarts des données et un jeu de test avec l'autre quart des données. ###\n",
        "X = df_wine.drop(['target'], axis=1)\n",
        "\n",
        "y = df_wine['target']\n",
        "\n",
        "from sklearn.model_selection import train_test_split\n",
        "\n",
        "X_train, X_test, y_train, y_test = train_test_split(X, y, test_size = 0.25, random_state = 42)"
      ]
    },
    {
      "cell_type": "markdown",
      "metadata": {
        "id": "V3goNfiKWd3y"
      },
      "source": [
        "## Question 6.1 :"
      ]
    },
    {
      "cell_type": "code",
      "execution_count": 21,
      "metadata": {
        "id": "GXzOEDSlWd3y",
        "colab": {
          "base_uri": "https://localhost:8080/",
          "height": 835
        },
        "outputId": "8bc02e71-a3b4-45fd-f6a5-8e06c88c632f"
      },
      "outputs": [
        {
          "output_type": "execute_result",
          "data": {
            "text/plain": [
              "[Text(0.5, 0.9, 'x[11] <= 2.19\\nentropy = 1.567\\nsamples = 133\\nvalue = [44, 53, 36]'),\n",
              " Text(0.3076923076923077, 0.7, 'x[10] <= 0.898\\nentropy = 0.592\\nsamples = 42\\nvalue = [0, 6, 36]'),\n",
              " Text(0.15384615384615385, 0.5, 'x[6] <= 1.49\\nentropy = 0.183\\nsamples = 36\\nvalue = [0, 1, 35]'),\n",
              " Text(0.07692307692307693, 0.3, 'entropy = 0.0\\nsamples = 35\\nvalue = [0, 0, 35]'),\n",
              " Text(0.23076923076923078, 0.3, 'entropy = 0.0\\nsamples = 1\\nvalue = [0, 1, 0]'),\n",
              " Text(0.46153846153846156, 0.5, 'x[6] <= 0.565\\nentropy = 0.65\\nsamples = 6\\nvalue = [0, 5, 1]'),\n",
              " Text(0.38461538461538464, 0.3, 'entropy = 0.0\\nsamples = 1\\nvalue = [0, 0, 1]'),\n",
              " Text(0.5384615384615384, 0.3, 'entropy = 0.0\\nsamples = 5\\nvalue = [0, 5, 0]'),\n",
              " Text(0.6923076923076923, 0.7, 'x[0] <= 12.785\\nentropy = 0.999\\nsamples = 91\\nvalue = [44, 47, 0]'),\n",
              " Text(0.6153846153846154, 0.5, 'entropy = 0.0\\nsamples = 41\\nvalue = [0, 41, 0]'),\n",
              " Text(0.7692307692307693, 0.5, 'x[12] <= 655.0\\nentropy = 0.529\\nsamples = 50\\nvalue = [44, 6, 0]'),\n",
              " Text(0.6923076923076923, 0.3, 'entropy = 0.0\\nsamples = 5\\nvalue = [0, 5, 0]'),\n",
              " Text(0.8461538461538461, 0.3, 'x[4] <= 135.5\\nentropy = 0.154\\nsamples = 45\\nvalue = [44, 1, 0]'),\n",
              " Text(0.7692307692307693, 0.1, 'entropy = 0.0\\nsamples = 44\\nvalue = [44, 0, 0]'),\n",
              " Text(0.9230769230769231, 0.1, 'entropy = 0.0\\nsamples = 1\\nvalue = [0, 1, 0]')]"
            ]
          },
          "metadata": {},
          "execution_count": 21
        },
        {
          "output_type": "display_data",
          "data": {
            "text/plain": [
              "<Figure size 1080x720 with 1 Axes>"
            ],
            "image/png": "[encoded data removed]"
          },
          "metadata": {
            "needs_background": "light"
          }
        }
      ],
      "source": [
        "### Construire un arbre de décision avec le critère ENTROPY et l'entrainer sur vos données. ###\n",
        "\n",
        "from sklearn.tree import DecisionTreeClassifier\n",
        "\n",
        "# instantiate the DecisionTreeClassifier model with criterion gini index\n",
        "clf_Entropy = DecisionTreeClassifier(criterion='entropy', max_depth=5, random_state=0)\n",
        "\n",
        "\n",
        "# fit the model aka train the model on X_train\n",
        "clf_Entropy.fit(X_train, y_train)\n",
        "\n",
        "\n",
        "\n",
        "### Afficher l'arbre de décision. ###\n",
        "plt.figure(figsize=(15,10))\n",
        "\n",
        "from sklearn import tree\n",
        "\n",
        "tree.plot_tree(clf_Entropy.fit(X_train, y_train)) \n"
      ]
    },
    {
      "cell_type": "markdown",
      "metadata": {
        "id": "5u9421SKdPLw"
      },
      "source": [
        "# Question 6.2 :"
      ]
    },
    {
      "cell_type": "code",
      "execution_count": 36,
      "metadata": {
        "id": "64fK63nbdMhx",
        "colab": {
          "base_uri": "https://localhost:8080/"
        },
        "outputId": "4c162937-58b7-4454-b3ad-e0e73a01ffa3"
      },
      "outputs": [
        {
          "output_type": "stream",
          "name": "stdout",
          "text": [
            "Accuracy on training set with criterion Entropy index: 1.000\n",
            "Accuracy on test set with criterion Entropy index: 0.889\n",
            "[0 0 1 0 1 0 1 2 1 0]\n",
            "[0 0 2 0 1 0 1 2 1 2]\n",
            "il y a 2 erreurs \n"
          ]
        }
      ],
      "source": [
        "### Afficher l'accuracy de l'arbre de décision sur le jeu d'entraînement ET sur le jeu de test. ###\n",
        "\n",
        "from sklearn.metrics import accuracy_score\n",
        "\n",
        "# La Prédiction sur le jeu d'entraînement\n",
        "y_train_pred = clf_Entropy.predict(X_train)\n",
        "train_acc = accuracy_score(y_train, y_train_pred)\n",
        "print(\"Accuracy on training set with criterion Entropy index: {:.3f}\".format(train_acc))\n",
        "\n",
        "\n",
        "\n",
        "# La Prédiction sur le jeu de test\n",
        "y_test_pred = clf_Entropy.predict(X_test)\n",
        "test_acc = accuracy_score(y_test, y_test_pred)\n",
        "print(\"Accuracy on test set with criterion Entropy index: {:.3f}\".format(test_acc))\n",
        "\n",
        "\n",
        "\n",
        "### Afficher les 10 premières prédictions de l'arbre de décision sur le jeu de test et comparer avec les vraies valeurs. ###\n",
        "predictions = clf_Entropy.predict(X_test)\n",
        "print(predictions[:10])\n",
        "print(y_test[:10].values)\n",
        "\n",
        "\n",
        "###Combien y a-t-il d'erreurs sur ces 10 premières prédictions ? ###\n",
        "print(\"il y a 2 erreurs \")\n"
      ]
    },
    {
      "cell_type": "markdown",
      "metadata": {
        "id": "n87JP9KfWd3y"
      },
      "source": [
        "## Question 7.1 :"
      ]
    },
    {
      "cell_type": "code",
      "execution_count": 46,
      "metadata": {
        "id": "4bXLEwliWd3z",
        "colab": {
          "base_uri": "https://localhost:8080/"
        },
        "outputId": "58ae8207-110f-4322-a9b0-1d84c5e3dbac"
      },
      "outputs": [
        {
          "output_type": "stream",
          "name": "stdout",
          "text": [
            "0.8120300751879699\n"
          ]
        }
      ],
      "source": [
        "### Construire un classifieur de K plus proches voisins (avec k=4) et l'entrainer sur vos données. ###\n",
        "from sklearn.neighbors import KNeighborsClassifier\n",
        "from sklearn.metrics import accuracy_score\n",
        "\n",
        "# Create a KNN classifier with 4 neighbors\n",
        "model = KNeighborsClassifier(n_neighbors=4)\n",
        "# Train the model using the training sets\n",
        "model.fit(X_train, y_train)\n",
        "\n",
        "# Accuracy of the model on the training set\n",
        "print(model.score(X_train, y_train))"
      ]
    },
    {
      "cell_type": "markdown",
      "metadata": {
        "id": "ctQqQ_FkfkDY"
      },
      "source": [
        "## Question 7.2 :"
      ]
    },
    {
      "cell_type": "code",
      "execution_count": 47,
      "metadata": {
        "id": "MwxIQODeffpo",
        "colab": {
          "base_uri": "https://localhost:8080/"
        },
        "outputId": "c271ed7e-f969-42d7-b440-e0dfe2ff56bd"
      },
      "outputs": [
        {
          "output_type": "stream",
          "name": "stdout",
          "text": [
            "0.6888888888888889\n",
            "[2 0 2 0 1 0 1 0 2 0 2 2 0 1 0 1 1 1 0 1]\n",
            "[0 0 2 0 1 0 1 2 1 2 0 2 0 1 0 1 1 1 0 1]\n",
            "il y a 5 erreurs\n"
          ]
        }
      ],
      "source": [
        "# Predict the response for test dataset\n",
        "predict = model.predict(X_test)\n",
        "\n",
        "\n",
        "\n",
        "### Afficher l'accuracy de votre classifieur sur le jeu d'entraînement ET sur le jeu de test. ###\n",
        "print(accuracy_score(predict, y_test))\n",
        "\n",
        "\n",
        "### Afficher les 10 premières prédictions de l'arbre de décision sur le jeu de test et compåarer avec les vraies valeurs. ###\n",
        "\n",
        "print(predict[:20])\n",
        "print(y_test[:20].values)\n",
        "\n",
        "\n",
        "### Combien y a-t-il d'erreurs sur ces 10 premières prédictions ? ###\n",
        "print(\"il y a 5 erreurs\")"
      ]
    },
    {
      "cell_type": "markdown",
      "metadata": {
        "id": "b9UtlQIBWd3z"
      },
      "source": [
        "## Question 8 :"
      ]
    },
    {
      "cell_type": "code",
      "execution_count": 39,
      "metadata": {
        "id": "m0FCbSEOWd3z",
        "colab": {
          "base_uri": "https://localhost:8080/",
          "height": 578
        },
        "outputId": "aafd6fa6-b1f9-48d6-87af-179b09da8819"
      },
      "outputs": [
        {
          "output_type": "stream",
          "name": "stdout",
          "text": [
            "Confusion Matrice for K=4:\n"
          ]
        },
        {
          "output_type": "display_data",
          "data": {
            "text/plain": [
              "<Figure size 432x288 with 2 Axes>"
            ],
            "image/png": "[encoded data removed]"
          },
          "metadata": {
            "needs_background": "light"
          }
        },
        {
          "output_type": "stream",
          "name": "stdout",
          "text": [
            "Confusion Matrix for Entropy:\n"
          ]
        },
        {
          "output_type": "display_data",
          "data": {
            "text/plain": [
              "<Figure size 432x288 with 2 Axes>"
            ],
            "image/png": "[encoded data removed]"
          },
          "metadata": {
            "needs_background": "light"
          }
        }
      ],
      "source": [
        "### Afficher la matrice de confusion de vos DEUX CLASSIEURS (en les nommant) sur le jeu de test. ###\n",
        "\n",
        "\n",
        "\n",
        "\n",
        "### Afficher la matrice de confusion  pour K=4: ###\n",
        "\n",
        "print(\"Confusion Matrice for K=4:\")\n",
        "from sklearn.metrics import confusion_matrix, ConfusionMatrixDisplay\n",
        "cm = confusion_matrix(y_test, predict)\n",
        "disp = ConfusionMatrixDisplay(confusion_matrix=cm, display_labels=wine.target_names)\n",
        "disp.plot()\n",
        "plt.show()\n",
        "\n",
        "### Afficher la matrice de confusion  pour Entropy: ###\n",
        "\n",
        "print(\"Confusion Matrix for Entropy:\")\n",
        "cn = confusion_matrix(y_test, y_test_pred)\n",
        "disp = ConfusionMatrixDisplay(confusion_matrix=cn, display_labels=wine.target_names)\n",
        "disp.plot()\n",
        "plt.show()\n"
      ]
    },
    {
      "cell_type": "markdown",
      "metadata": {
        "id": "oB_zexsqWd3z"
      },
      "source": [
        "## Question 9 :"
      ]
    },
    {
      "cell_type": "code",
      "execution_count": 49,
      "metadata": {
        "id": "vNgAMaPmWd3z",
        "colab": {
          "base_uri": "https://localhost:8080/"
        },
        "outputId": "da0b80f0-792b-4447-b643-59eea592daf4"
      },
      "outputs": [
        {
          "output_type": "stream",
          "name": "stdout",
          "text": [
            "entropy : \n",
            "Class class_0 - FPR: 0.00, FNR: 1.00\n",
            "Class class_1 - FPR: 1.00, FNR: 0.00\n",
            "Class class_2 - FPR: 0.75, FNR: 0.25\n",
            "knn : \n",
            "Class class_0 - FPR: 0.00, FNR: 1.00\n",
            "Class class_1 - FPR: 0.93, FNR: 0.07\n",
            "Class class_2 - FPR: 0.71, FNR: 0.29\n",
            "              precision    recall  f1-score   support\n",
            "\n",
            "     class_0       0.94      1.00      0.97        15\n",
            "     class_1       0.85      0.94      0.89        18\n",
            "     class_2       0.89      0.67      0.76        12\n",
            "\n",
            "    accuracy                           0.89        45\n",
            "   macro avg       0.89      0.87      0.87        45\n",
            "weighted avg       0.89      0.89      0.88        45\n",
            "\n",
            "              precision    recall  f1-score   support\n",
            "\n",
            "     class_0       0.81      0.87      0.84        15\n",
            "     class_1       0.72      0.72      0.72        18\n",
            "     class_2       0.45      0.42      0.43        12\n",
            "\n",
            "    accuracy                           0.69        45\n",
            "   macro avg       0.66      0.67      0.67        45\n",
            "weighted avg       0.68      0.69      0.68        45\n",
            "\n",
            "le taux de précision, rappel et f1-score pour classifieur Entropy est affiché au premier tableau . \n",
            "le taux de précision, rappel et f1-score pour classifieur Knn est affiché au deuxième  tableau . \n",
            " arpès les résultats obtenus par le traitements , on remarque que le meilleur classifieur dans notre cas est le classifieur ENTROPY \n",
            "car l'accuracy d'ENTROPY est plus grand que cel de knn \n"
          ]
        }
      ],
      "source": [
        "from sklearn.metrics import classification_report\n",
        "\n",
        "### Quel est le taux de faux positif et faux négatif de chaque classifieur ? ###\n",
        "print(\"entropy : \")\n",
        "\n",
        "for i in range(len(wine.target_names)):\n",
        "    fp_rate = cn[i, 1] / (cn[i, 0] + cn[i, 1])\n",
        "    fn_rate = cn[i, 0] / (cn[i, 0] + cn[i, 1])\n",
        "    print(\"Class {} - FPR: {:.2f}, FNR: {:.2f}\".format(wine.target_names[i], fp_rate, fn_rate))\n",
        "\n",
        "# Compute false positive rate and false negative rate for each class\n",
        "print(\"knn : \")\n",
        "for i in range(len(wine.target_names)):\n",
        "    fp_rate = cm[i, 1] / (cm[i, 0] + cm[i, 1])\n",
        "    fn_rate = cm[i, 0] / (cm[i, 0] + cm[i, 1])\n",
        "    print(\"Class {} - FPR: {:.2f}, FNR: {:.2f}\".format(wine.target_names[i], fp_rate, fn_rate))\n",
        "\n",
        "\n",
        "from sklearn.metrics import classification_report\n",
        "\n",
        "# Classification report for Entropy\n",
        "\n",
        "print(classification_report(y_test, y_pred_en, target_names=wine.target_names))\n",
        "\n",
        "\n",
        "# Classification report for Knn avec k=4\n",
        "print(classification_report(y_test, predict, target_names=wine.target_names))\n",
        "\n",
        "\n",
        "\n",
        "### Quel est le taux de précision, rappel et f1-score de chaque classifieur ? ###\n",
        "\n",
        "print('le taux de précision, rappel et f1-score pour classifieur Entropy est affiché au premier tableau . ')\n",
        "print('le taux de précision, rappel et f1-score pour classifieur Knn est affiché au deuxième  tableau . ')\n",
        "\n",
        "\n",
        "\n",
        "\n",
        "\n",
        "### Quel est le meilleur classifieur ? Pourquoi (bien justifier !) ? ###\n",
        "print(' arpès les résultats obtenus par le traitements , on remarque que le meilleur classifieur dans notre cas est le classifieur ENTROPY ')\n",
        "print(\"car l'accuracy d'ENTROPY est plus grand que cel de knn \")"
      ]
    },
    {
      "cell_type": "markdown",
      "metadata": {
        "id": "l0Zz_5xTWd3z"
      },
      "source": [
        "## Question 10 :"
      ]
    },
    {
      "cell_type": "code",
      "execution_count": null,
      "metadata": {
        "id": "k4AO5uRaWd3z"
      },
      "outputs": [],
      "source": [
        "### Donner trois solutions pour améliorer l'accuracy de votre classifieur. ###"
      ]
    },
    {
      "cell_type": "markdown",
      "source": [
        "\n",
        "\n",
        "1 - Augmenter la quantité et la qualité des données d'entraînement ( Enrichir le jeu de données ) .\n",
        "\n",
        "\n",
        "2 - Utiliser des algorithmes de classification plus avancés : il est possible que le modèle que vous avez choisi ne soit pas le plus approprié pour vos données. Essayez différents types de modèles, tels que les forêts aléatoires ou les réseaux de neurones, pour voir si cela améliore les performances de votre modèle.\n",
        "\n",
        "3 - Utiliser des techniques de prétraitement des données : Les données brutes peuvent être difficiles à interpréter pour un classifieur. Les techniques de prétraitement des données peuvent aider à réduire le bruit et à mettre en évidence les caractéristiques importantes des données, ce qui peut améliorer la précision de votre classifieur .\n",
        "\n",
        "4- Optimiser les hyperparamètres : en optimisant les hyperparamètres, tels que la profondeur maximale de l arbre de décision, ou les paramètres de régularisation pour le classifieur bayésien naïf, on peut améliorer les performances du modèle.\n"
      ],
      "metadata": {
        "id": "FL9bMFgHxbwT"
      }
    }
  ],
  "metadata": {
    "colab": {
      "provenance": []
    },
    "kernelspec": {
      "display_name": ".venv",
      "language": "python",
      "name": "python3"
    },
    "language_info": {
      "codemirror_mode": {
        "name": "ipython",
        "version": 3
      },
      "file_extension": ".py",
      "mimetype": "text/x-python",
      "name": "python",
      "nbconvert_exporter": "python",
      "pygments_lexer": "ipython3",
      "version": "3.11.2"
    },
    "orig_nbformat": 4
  },
  "nbformat": 4,
  "nbformat_minor": 0
}